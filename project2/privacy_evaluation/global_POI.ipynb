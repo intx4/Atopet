{
 "cells": [
  {
   "cell_type": "markdown",
   "metadata": {
    "pycharm": {
     "name": "#%% md\n"
    }
   },
   "source": [
    "## Disclaimer\n",
    "This notebook contains attack 3 of the report.\n",
    "## Imports"
   ]
  },
  {
   "cell_type": "code",
   "execution_count": 1,
   "metadata": {},
   "outputs": [],
   "source": [
    "import matplotlib.pyplot as plt\n",
    "import pandas as pd"
   ]
  },
  {
   "cell_type": "code",
   "execution_count": 2,
   "metadata": {
    "pycharm": {
     "name": "#%%\n"
    }
   },
   "outputs": [],
   "source": [
    "queries_df = pd.read_csv('queries_extended.csv')\n",
    "queries_df['is_week_end'] = queries_df.apply(lambda row:\n",
    "                                             row['day']%7==0 or row['day']%6==0, axis=1)"
   ]
  },
  {
   "cell_type": "code",
   "execution_count": 3,
   "metadata": {
    "pycharm": {
     "name": "#%%\n"
    }
   },
   "outputs": [],
   "source": [
    "not_week_days = queries_df[queries_df['is_week_end']]\n",
    "weekdays_df = queries_df[queries_df['is_week_end'] == False]"
   ]
  },
  {
   "cell_type": "code",
   "execution_count": 10,
   "metadata": {
    "pycharm": {
     "name": "#%%\n"
    }
   },
   "outputs": [],
   "source": [
    "# Splitting dataframes into week_ends and week_days set\n",
    "group_by_ip_weekends = not_week_days.groupby(['ip_address', 'daytime', 'poi_type_query']).size().reset_index(name='count')\n",
    "group_by_ip_weekends = group_by_ip_weekends.groupby(['ip_address', 'daytime']).max()\n",
    "group_by_ip_weekends = group_by_ip_weekends.reset_index()\n",
    "\n",
    "group_by_week_day_ip = not_week_days.groupby(['ip_address', 'daytime', 'poi_type_query']).size().reset_index(name='count')\n",
    "group_by_week_day_ip = group_by_week_day_ip.groupby(['ip_address', 'daytime']).max()\n",
    "group_by_week_day_ip = group_by_week_day_ip.reset_index()"
   ]
  },
  {
   "cell_type": "code",
   "execution_count": 11,
   "metadata": {
    "pycharm": {
     "name": "#%%\n"
    }
   },
   "outputs": [],
   "source": [
    "group_by_ip_weekends.to_csv('users_poi_counts_weekends.csv', index=False)\n",
    "group_by_week_day_ip.to_csv('users_poi_counts_weekdays.csv', index=False)"
   ]
  }
 ],
 "metadata": {
  "kernelspec": {
   "display_name": "Python 3",
   "language": "python",
   "name": "python3"
  },
  "language_info": {
   "codemirror_mode": {
    "name": "ipython",
    "version": 3
   },
   "file_extension": ".py",
   "mimetype": "text/x-python",
   "name": "python",
   "nbconvert_exporter": "python",
   "pygments_lexer": "ipython3",
   "version": "3.8.5"
  }
 },
 "nbformat": 4,
 "nbformat_minor": 1
}