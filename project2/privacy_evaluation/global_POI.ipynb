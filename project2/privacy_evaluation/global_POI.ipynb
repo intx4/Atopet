{
 "cells": [
  {
   "cell_type": "markdown",
   "metadata": {
    "pycharm": {
     "name": "#%% md\n"
    }
   },
   "source": [
    "# Imports"
   ]
  },
  {
   "cell_type": "code",
   "execution_count": null,
   "metadata": {},
   "outputs": [],
   "source": [
    "import matplotlib.pyplot as plt\n",
    "import pandas as pd\n",
    "import matplotlib.pyplot as pyp"
   ]
  },
  {
   "cell_type": "markdown",
   "metadata": {
    "pycharm": {
     "name": "#%% md\n"
    }
   },
   "source": [
    "Add week ends"
   ]
  },
  {
   "cell_type": "code",
   "execution_count": null,
   "metadata": {
    "pycharm": {
     "name": "#%%\n"
    }
   },
   "outputs": [],
   "source": [
    "queries_df = pd.read_csv('queries_extended.csv')\n",
    "queries_df['is_week_end'] = queries_df.apply(lambda row:\n",
    "                                             row['day']%7==0 or row['day']%6==0, axis=1)"
   ]
  },
  {
   "cell_type": "code",
   "execution_count": null,
   "metadata": {
    "pycharm": {
     "name": "#%%\n"
    }
   },
   "outputs": [],
   "source": [
    "not_week_days = queries_df[queries_df['is_week_end']]\n",
    "weekdays_df = queries_df[queries_df['is_week_end'] == False]"
   ]
  },
  {
   "cell_type": "code",
   "execution_count": null,
   "metadata": {
    "pycharm": {
     "name": "#%%\n"
    }
   },
   "outputs": [],
   "source": [
    "group_by_ip_weekends = not_week_days.groupby(['ip_address', 'poi_type_query']).size().reset_index(name='count')\n",
    "group_by_ip_weekends = group_by_ip_weekends.sort_values(['ip_address', 'count'])\n",
    "\n",
    "group_by_week_day_ip = not_week_days.groupby(['ip_address', 'poi_type_query']).size().reset_index(name='count')\n",
    "group_by_week_day_ip = group_by_week_day_ip.sort_values(['ip_address', 'count'])"
   ]
  },
  {
   "cell_type": "code",
   "execution_count": null,
   "metadata": {
    "pycharm": {
     "name": "#%%\n"
    }
   },
   "outputs": [],
   "source": [
    "week_end_ip_group = group_by_ip_weekends.groupby(['ip_address'])\n",
    "for entity in week_end_ip_group:\n",
    "    entry_values = entity[1]\n",
    "    fig = plt.figure()\n",
    "    ax = fig.add_axes([0,0,1,1])\n",
    "    ax.bar(entry_values['poi_type_query'], entry_values['count'])\n",
    "    ax.set_title(f'Point of interest of entity {entity[0]} on week ends')\n",
    "    ax.set_ylabel('Num of query made')\n",
    "    ax.set_xlabel('POI')\n",
    "    plt.show()"
   ]
  },
  {
   "cell_type": "code",
   "execution_count": null,
   "metadata": {
    "pycharm": {
     "name": "#%%\n"
    }
   },
   "outputs": [],
   "source": []
  }
 ],
 "metadata": {
  "kernelspec": {
   "display_name": "Python 3",
   "language": "python",
   "name": "python3"
  },
  "language_info": {
   "codemirror_mode": {
    "name": "ipython",
    "version": 3
   },
   "file_extension": ".py",
   "mimetype": "text/x-python",
   "name": "python",
   "nbconvert_exporter": "python",
   "pygments_lexer": "ipython3",
   "version": "3.8.5"
  }
 },
 "nbformat": 4,
 "nbformat_minor": 1
}
