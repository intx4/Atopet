{
 "cells": [
  {
   "cell_type": "code",
   "execution_count": 28,
   "metadata": {
    "collapsed": true
   },
   "outputs": [],
   "source": [
    "import pandas as ps\n",
    "import numpy as np\n",
    "from grid import location_to_cell_id\n",
    "from math import ceil"
   ]
  },
  {
   "cell_type": "markdown",
   "source": [
    "## 0. Read Dataframes"
   ],
   "metadata": {
    "collapsed": false,
    "pycharm": {
     "name": "#%% md\n"
    }
   }
  },
  {
   "cell_type": "code",
   "execution_count": 34,
   "outputs": [
    {
     "name": "stdout",
     "output_type": "stream",
     "text": [
      "      poi_id  cell_id     poi_type        lat       lon\n",
      "0        307        1          bar  46.504486  6.559631\n",
      "1        331        1          bar  46.500259  6.554721\n",
      "2        578        1  supermarket  46.506017  6.551165\n",
      "3        897        1         club  46.504494  6.553889\n",
      "4        972        1  supermarket  46.502984  6.550519\n",
      "...      ...      ...          ...        ...       ...\n",
      "1055     372      100   restaurant  46.563852  6.648454\n",
      "1056     649      100          bar  46.564047  6.640250\n",
      "1057     730      100          gym  46.565961  6.642228\n",
      "1058     828      100         club  46.569177  6.642401\n",
      "1059     990      100          bar  46.565290  6.640855\n",
      "\n",
      "[1060 rows x 5 columns]\n",
      "           ip_address        lat       lon   timestamp poi_type_query\n",
      "0      34.101.177.245  46.532942  6.591174   14.912448      cafeteria\n",
      "1      34.101.177.245  46.532942  6.591174   14.912448     restaurant\n",
      "2      34.101.177.245  46.550342  6.602852   18.024657     restaurant\n",
      "3      34.101.177.245  46.550342  6.602852   18.024657      cafeteria\n",
      "4      34.101.177.245  46.532942  6.591174   36.334539      cafeteria\n",
      "...               ...        ...       ...         ...            ...\n",
      "20438     11.173.13.2  46.524410  6.625246  449.159554    supermarket\n",
      "20439     11.173.13.2  46.527363  6.628705  453.426750    supermarket\n",
      "20440     11.173.13.2  46.527363  6.628705  453.426750            gym\n",
      "20441     11.173.13.2  46.524410  6.625246  464.420041    supermarket\n",
      "20442     11.173.13.2  46.527363  6.628705  464.420041     restaurant\n",
      "\n",
      "[20443 rows x 5 columns]\n"
     ]
    }
   ],
   "source": [
    "pois_df = ps.read_csv('pois.csv', sep=' ')\n",
    "queries_df = ps.read_csv('queries.csv', sep=' ')\n",
    "\n",
    "print(pois_df)\n",
    "print(queries_df)"
   ],
   "metadata": {
    "collapsed": false,
    "pycharm": {
     "name": "#%%\n"
    }
   }
  },
  {
   "cell_type": "markdown",
   "source": [
    "## 1. Data cleaning"
   ],
   "metadata": {
    "collapsed": false,
    "pycharm": {
     "name": "#%% md\n"
    }
   }
  },
  {
   "cell_type": "code",
   "execution_count": 35,
   "outputs": [
    {
     "name": "stdout",
     "output_type": "stream",
     "text": [
      "           ip_address        lat       lon   timestamp poi_type_query  cell_id\n",
      "0      34.101.177.245  46.532942  6.591174   14.912448      cafeteria       45\n",
      "1      34.101.177.245  46.532942  6.591174   14.912448     restaurant       45\n",
      "2      34.101.177.245  46.550342  6.602852   18.024657     restaurant       76\n",
      "3      34.101.177.245  46.550342  6.602852   18.024657      cafeteria       76\n",
      "4      34.101.177.245  46.532942  6.591174   36.334539      cafeteria       45\n",
      "...               ...        ...       ...         ...            ...      ...\n",
      "20438     11.173.13.2  46.524410  6.625246  449.159554    supermarket       38\n",
      "20439     11.173.13.2  46.527363  6.628705  453.426750    supermarket       38\n",
      "20440     11.173.13.2  46.527363  6.628705  453.426750            gym       38\n",
      "20441     11.173.13.2  46.524410  6.625246  464.420041    supermarket       38\n",
      "20442     11.173.13.2  46.527363  6.628705  464.420041     restaurant       38\n",
      "\n",
      "[20443 rows x 6 columns]\n"
     ]
    }
   ],
   "source": [
    "#Extract cell_id from which query happened\n",
    "def get_cell_id(row):\n",
    "    return location_to_cell_id(row['lat'], row['lon'])\n",
    "\n",
    "queries_df['cell_id'] = queries_df.apply(lambda row: get_cell_id(row), axis=1)\n",
    "print(queries_df)"
   ],
   "metadata": {
    "collapsed": false,
    "pycharm": {
     "name": "#%%\n"
    }
   }
  },
  {
   "cell_type": "code",
   "execution_count": 67,
   "outputs": [
    {
     "name": "stdout",
     "output_type": "stream",
     "text": [
      "           ip_address        lat       lon   timestamp poi_type_query  \\\n",
      "0      34.101.177.245  46.532942  6.591174   14.912448      cafeteria   \n",
      "1      34.101.177.245  46.532942  6.591174   14.912448     restaurant   \n",
      "2      34.101.177.245  46.550342  6.602852   18.024657     restaurant   \n",
      "3      34.101.177.245  46.550342  6.602852   18.024657      cafeteria   \n",
      "4      34.101.177.245  46.532942  6.591174   36.334539      cafeteria   \n",
      "...               ...        ...       ...         ...            ...   \n",
      "20438     11.173.13.2  46.524410  6.625246  449.159554    supermarket   \n",
      "20439     11.173.13.2  46.527363  6.628705  453.426750    supermarket   \n",
      "20440     11.173.13.2  46.527363  6.628705  453.426750            gym   \n",
      "20441     11.173.13.2  46.524410  6.625246  464.420041    supermarket   \n",
      "20442     11.173.13.2  46.527363  6.628705  464.420041     restaurant   \n",
      "\n",
      "       cell_id  day  time    daytime  \n",
      "0           45    1    14  Afternoon  \n",
      "1           45    1    14  Afternoon  \n",
      "2           76    1    18    Evening  \n",
      "3           76    1    18    Evening  \n",
      "4           45    2    12  Afternoon  \n",
      "...        ...  ...   ...        ...  \n",
      "20438       38   19    17    Evening  \n",
      "20439       38   19    21      Night  \n",
      "20440       38   19    21      Night  \n",
      "20441       38   20     8      Early  \n",
      "20442       38   20     8      Early  \n",
      "\n",
      "[20443 rows x 9 columns]\n"
     ]
    }
   ],
   "source": [
    "#Get day of the query and time\n",
    "def get_day(row):\n",
    "    return ceil(row['timestamp'] / 24)\n",
    "\n",
    "def get_hour_of_day(row):\n",
    "    return int(row['timestamp'] % 24)\n",
    "\n",
    "queries_df['day'] = queries_df.apply(lambda row: get_day(row), axis=1)\n",
    "queries_df['time'] = queries_df.apply(lambda row: get_hour_of_day(row), axis=1)\n",
    "\n",
    "#Get daytime\n",
    "def get_daytime(row):\n",
    "    time = row['time']\n",
    "    if (time > 0 and time < 9):\n",
    "        return 'Early'\n",
    "    if (time >= 9 and time < 12):\n",
    "        return 'Morning'\n",
    "    if (time >= 12 and time < 17):\n",
    "        return 'Afternoon'\n",
    "    if (time >= 17 and time < 20):\n",
    "        return 'Evening'\n",
    "    if (time >= 20 and time <= 23):\n",
    "        return 'Night'\n",
    "queries_df['daytime'] = queries_df.apply(lambda row: get_daytime(row), axis=1)\n",
    "\n",
    "print(queries_df)"
   ],
   "metadata": {
    "collapsed": false,
    "pycharm": {
     "name": "#%%\n"
    }
   }
  },
  {
   "cell_type": "markdown",
   "source": [
    "## 2.Statistics"
   ],
   "metadata": {
    "collapsed": false,
    "pycharm": {
     "name": "#%% md\n"
    }
   }
  },
  {
   "cell_type": "code",
   "execution_count": 68,
   "outputs": [
    {
     "name": "stdout",
     "output_type": "stream",
     "text": [
      "         ip_address    daytime  cell_id  count\n",
      "0       0.98.248.97  Afternoon     18.0    8.0\n",
      "1       0.98.248.97  Afternoon     63.0   16.0\n",
      "4       0.98.248.97    Evening     18.0   20.0\n",
      "5       0.98.248.97    Morning     18.0    5.0\n",
      "8       0.98.248.97    Morning     63.0   14.0\n",
      "...             ...        ...      ...    ...\n",
      "1866  97.138.146.97  Afternoon     53.0   22.0\n",
      "1868  97.138.146.97    Evening     22.0   10.0\n",
      "1871  97.138.146.97    Morning     22.0    5.0\n",
      "1874  97.138.146.97    Morning     53.0    8.0\n",
      "1877  97.138.146.97      Night     22.0   16.0\n",
      "\n",
      "[1032 rows x 4 columns]\n"
     ]
    }
   ],
   "source": [
    "!rm queries_stats.csv\n",
    "queries_grouped = queries_df.groupby(['ip_address', 'daytime', 'cell_id'])\\\n",
    "    .size().reset_index(name='count')\n",
    "queries_grouped = queries_grouped.where(queries_grouped['count'] > 4).dropna()\n",
    "print(queries_grouped)\n",
    "queries_grouped.to_csv('queries_stats.csv')"
   ],
   "metadata": {
    "collapsed": false,
    "pycharm": {
     "name": "#%%\n"
    }
   }
  }
 ],
 "metadata": {
  "kernelspec": {
   "display_name": "Python 3",
   "language": "python",
   "name": "python3"
  },
  "language_info": {
   "codemirror_mode": {
    "name": "ipython",
    "version": 2
   },
   "file_extension": ".py",
   "mimetype": "text/x-python",
   "name": "python",
   "nbconvert_exporter": "python",
   "pygments_lexer": "ipython2",
   "version": "2.7.6"
  }
 },
 "nbformat": 4,
 "nbformat_minor": 0
}