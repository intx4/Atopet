{
 "cells": [
  {
   "cell_type": "code",
   "execution_count": 2,
   "metadata": {
    "collapsed": true
   },
   "outputs": [],
   "source": [
    "import pandas as ps\n",
    "import numpy as np\n",
    "from grid import location_to_cell_id\n",
    "from sqlalchemy import create_engine\n",
    "from math import ceil\n",
    "\n",
    "engine = create_engine('sqlite://', echo=False)"
   ]
  },
  {
   "cell_type": "markdown",
   "source": [
    "## 0. Read Dataframes"
   ],
   "metadata": {
    "collapsed": false,
    "pycharm": {
     "name": "#%% md\n"
    }
   }
  },
  {
   "cell_type": "code",
   "execution_count": 3,
   "outputs": [
    {
     "name": "stdout",
     "output_type": "stream",
     "text": [
      "      poi_id  cell_id     poi_type        lat       lon\n",
      "0        307        1          bar  46.504486  6.559631\n",
      "1        331        1          bar  46.500259  6.554721\n",
      "2        578        1  supermarket  46.506017  6.551165\n",
      "3        897        1         club  46.504494  6.553889\n",
      "4        972        1  supermarket  46.502984  6.550519\n",
      "...      ...      ...          ...        ...       ...\n",
      "1055     372      100   restaurant  46.563852  6.648454\n",
      "1056     649      100          bar  46.564047  6.640250\n",
      "1057     730      100          gym  46.565961  6.642228\n",
      "1058     828      100         club  46.569177  6.642401\n",
      "1059     990      100          bar  46.565290  6.640855\n",
      "\n",
      "[1060 rows x 5 columns]\n",
      "           ip_address        lat       lon   timestamp poi_type_query\n",
      "0      34.101.177.245  46.532942  6.591174   14.912448      cafeteria\n",
      "1      34.101.177.245  46.532942  6.591174   14.912448     restaurant\n",
      "2      34.101.177.245  46.550342  6.602852   18.024657     restaurant\n",
      "3      34.101.177.245  46.550342  6.602852   18.024657      cafeteria\n",
      "4      34.101.177.245  46.532942  6.591174   36.334539      cafeteria\n",
      "...               ...        ...       ...         ...            ...\n",
      "20438     11.173.13.2  46.524410  6.625246  449.159554    supermarket\n",
      "20439     11.173.13.2  46.527363  6.628705  453.426750    supermarket\n",
      "20440     11.173.13.2  46.527363  6.628705  453.426750            gym\n",
      "20441     11.173.13.2  46.524410  6.625246  464.420041    supermarket\n",
      "20442     11.173.13.2  46.527363  6.628705  464.420041     restaurant\n",
      "\n",
      "[20443 rows x 5 columns]\n"
     ]
    }
   ],
   "source": [
    "pois_df = ps.read_csv('pois.csv', sep=' ')\n",
    "queries_df = ps.read_csv('queries.csv', sep=' ')\n",
    "\n",
    "print(pois_df)\n",
    "print(queries_df)"
   ],
   "metadata": {
    "collapsed": false,
    "pycharm": {
     "name": "#%%\n"
    }
   }
  },
  {
   "cell_type": "markdown",
   "source": [
    "## 1. Data cleaning"
   ],
   "metadata": {
    "collapsed": false,
    "pycharm": {
     "name": "#%% md\n"
    }
   }
  },
  {
   "cell_type": "code",
   "execution_count": 4,
   "outputs": [
    {
     "name": "stdout",
     "output_type": "stream",
     "text": [
      "           ip_address        lat       lon   timestamp poi_type_query  cell_id\n",
      "0      34.101.177.245  46.532942  6.591174   14.912448      cafeteria       45\n",
      "1      34.101.177.245  46.532942  6.591174   14.912448     restaurant       45\n",
      "2      34.101.177.245  46.550342  6.602852   18.024657     restaurant       76\n",
      "3      34.101.177.245  46.550342  6.602852   18.024657      cafeteria       76\n",
      "4      34.101.177.245  46.532942  6.591174   36.334539      cafeteria       45\n",
      "...               ...        ...       ...         ...            ...      ...\n",
      "20438     11.173.13.2  46.524410  6.625246  449.159554    supermarket       38\n",
      "20439     11.173.13.2  46.527363  6.628705  453.426750    supermarket       38\n",
      "20440     11.173.13.2  46.527363  6.628705  453.426750            gym       38\n",
      "20441     11.173.13.2  46.524410  6.625246  464.420041    supermarket       38\n",
      "20442     11.173.13.2  46.527363  6.628705  464.420041     restaurant       38\n",
      "\n",
      "[20443 rows x 6 columns]\n"
     ]
    }
   ],
   "source": [
    "#Extract cell_id from which query happened\n",
    "def get_cell_id(row):\n",
    "    return location_to_cell_id(row['lat'], row['lon'])\n",
    "\n",
    "queries_df['cell_id'] = queries_df.apply(lambda row: get_cell_id(row), axis=1)\n",
    "print(queries_df)"
   ],
   "metadata": {
    "collapsed": false,
    "pycharm": {
     "name": "#%%\n"
    }
   }
  },
  {
   "cell_type": "code",
   "execution_count": 5,
   "outputs": [
    {
     "name": "stdout",
     "output_type": "stream",
     "text": [
      "           ip_address        lat       lon   timestamp poi_type_query  \\\n",
      "0      34.101.177.245  46.532942  6.591174   14.912448      cafeteria   \n",
      "1      34.101.177.245  46.532942  6.591174   14.912448     restaurant   \n",
      "2      34.101.177.245  46.550342  6.602852   18.024657     restaurant   \n",
      "3      34.101.177.245  46.550342  6.602852   18.024657      cafeteria   \n",
      "4      34.101.177.245  46.532942  6.591174   36.334539      cafeteria   \n",
      "...               ...        ...       ...         ...            ...   \n",
      "20438     11.173.13.2  46.524410  6.625246  449.159554    supermarket   \n",
      "20439     11.173.13.2  46.527363  6.628705  453.426750    supermarket   \n",
      "20440     11.173.13.2  46.527363  6.628705  453.426750            gym   \n",
      "20441     11.173.13.2  46.524410  6.625246  464.420041    supermarket   \n",
      "20442     11.173.13.2  46.527363  6.628705  464.420041     restaurant   \n",
      "\n",
      "       cell_id  day  time      daytime  \n",
      "0           45    1    14  3.Afternoon  \n",
      "1           45    1    14  3.Afternoon  \n",
      "2           76    1    18    4.Evening  \n",
      "3           76    1    18    4.Evening  \n",
      "4           45    2    12  3.Afternoon  \n",
      "...        ...  ...   ...          ...  \n",
      "20438       38   19    17    4.Evening  \n",
      "20439       38   19    21      5.Night  \n",
      "20440       38   19    21      5.Night  \n",
      "20441       38   20     8      1.Early  \n",
      "20442       38   20     8      1.Early  \n",
      "\n",
      "[20443 rows x 9 columns]\n"
     ]
    }
   ],
   "source": [
    "#Get day of the query and time\n",
    "def get_day(row):\n",
    "    return ceil(row['timestamp'] / 24)\n",
    "\n",
    "def get_hour_of_day(row):\n",
    "    return int(row['timestamp'] % 24)\n",
    "\n",
    "queries_df['day'] = queries_df.apply(lambda row: get_day(row), axis=1)\n",
    "queries_df['time'] = queries_df.apply(lambda row: get_hour_of_day(row), axis=1)\n",
    "\n",
    "#Get daytime\n",
    "def get_daytime(row):\n",
    "    time = row['time']\n",
    "    if (time >= 0 and time < 9):\n",
    "        return '1.Early'\n",
    "    if (time >= 9 and time < 12):\n",
    "        return '2.Morning'\n",
    "    if (time >= 12 and time < 17):\n",
    "        return '3.Afternoon'\n",
    "    if (time >= 17 and time < 20):\n",
    "        return '4.Evening'\n",
    "    if (time >= 20 and time <= 23):\n",
    "        return '5.Night'\n",
    "queries_df['daytime'] = queries_df.apply(lambda row: get_daytime(row), axis=1)\n",
    "\n",
    "print(queries_df)"
   ],
   "metadata": {
    "collapsed": false,
    "pycharm": {
     "name": "#%%\n"
    }
   }
  },
  {
   "cell_type": "markdown",
   "source": [
    "## 2.Statistics"
   ],
   "metadata": {
    "collapsed": false,
    "pycharm": {
     "name": "#%% md\n"
    }
   }
  },
  {
   "cell_type": "code",
   "execution_count": 6,
   "outputs": [
    {
     "name": "stdout",
     "output_type": "stream",
     "text": [
      "         ip_address      daytime  day  cell_id  count\n",
      "0       0.98.248.97    2.Morning    1       63      2\n",
      "1       0.98.248.97    4.Evening    1       18      2\n",
      "2       0.98.248.97    2.Morning    2       63      2\n",
      "3       0.98.248.97      5.Night    2       18      4\n",
      "4       0.98.248.97    2.Morning    3       63      2\n",
      "...             ...          ...  ...      ...    ...\n",
      "9672  97.138.146.97  3.Afternoon   19       22      2\n",
      "9673  97.138.146.97  3.Afternoon   19       53      2\n",
      "9674  97.138.146.97    2.Morning   20       10      2\n",
      "9675  97.138.146.97    2.Morning   20       22      1\n",
      "9676  97.138.146.97    2.Morning   20       40      1\n",
      "\n",
      "[9677 rows x 5 columns]\n"
     ]
    }
   ],
   "source": [
    "!rm stats1.csv\n",
    "queries_grouped = queries_df.groupby(['ip_address', 'daytime', 'day','cell_id'])\\\n",
    "    .size().sort_index(level=[0,2,1])\n",
    "#queries_grouped = queries_grouped.where(queries_grouped['count'] > 4).dropna()\n",
    "\n",
    "queries_grouped = queries_grouped.to_frame(name='count').reset_index()\n",
    "print(queries_grouped)\n",
    "queries_grouped.to_csv('stats1.csv')"
   ],
   "metadata": {
    "collapsed": false,
    "pycharm": {
     "name": "#%%\n"
    }
   }
  },
  {
   "cell_type": "markdown",
   "source": [
    "queries_grouped contains, for each ip, for each day and daytime,\n",
    "the number of queries launched from a certain cell_id\n",
    "it could be useful for inferring movement patterns."
   ],
   "metadata": {
    "collapsed": false,
    "pycharm": {
     "name": "#%% md\n"
    }
   }
  },
  {
   "cell_type": "code",
   "execution_count": 15,
   "outputs": [],
   "source": [
    "!rm stats2.csv\n",
    "queries_grouped_day_removed = queries_grouped.drop(['day'],axis = 1)\n",
    "max_cell_daytime = queries_grouped_day_removed.groupby(['ip_address','daytime'])\\\n",
    "    .agg(['max'])\n",
    "max_cell_daytime.to_csv('stats2.csv')"
   ],
   "metadata": {
    "collapsed": false,
    "pycharm": {
     "name": "#%%\n"
    }
   }
  },
  {
   "cell_type": "markdown",
   "source": [
    "max_cell_daytime contains, for each ip, for each daytime, the cell\n",
    "from which most queries have been made.\n",
    "It could be useful to individuate home/work cell id in grid\n",
    "The assumption here is that users are on average\n",
    "habiturinary people, such that each day, for each daytime,\n",
    "the set of cells does not vary too much."
   ],
   "metadata": {
    "collapsed": false
   }
  },
  {
   "cell_type": "code",
   "execution_count": 16,
   "outputs": [],
   "source": [
    "#reset the multi index manually\n",
    "#i.e just removed first two rows from stats2 and created header\n",
    "\n",
    "!sed -i -e 1,3d stats2.csv\n",
    "!echo -e \"ip_address,daytime,cell_id,count\\n$(cat stats2.csv)\" > stats2.csv\n",
    "\n",
    "max_cell_daytime = ps.read_csv('stats2.csv', sep=',', header='infer')"
   ],
   "metadata": {
    "collapsed": false,
    "pycharm": {
     "name": "#%%\n"
    }
   }
  },
  {
   "cell_type": "code",
   "execution_count": 17,
   "outputs": [],
   "source": [
    "class Filter:\n",
    "    def __init__(self, max_cell_daytime):\n",
    "        self.max_cell_daytime = max_cell_daytime\n",
    "\n",
    "    def filter_locations(self, user, daytime, cell_id):\n",
    "        max_cell_daytime = self.max_cell_daytime\n",
    "        cell = max_cell_daytime.loc[(max_cell_daytime['ip_address'] == user) & (max_cell_daytime['daytime'] == daytime)]['cell_id'].to_numpy()[0]\n",
    "        if cell_id != cell:\n",
    "            return False\n",
    "        else:\n",
    "            return True\n",
    "custom_filter = Filter(max_cell_daytime)\n",
    "queries_df['filter'] = np.vectorize(custom_filter.filter_locations)(queries_df['ip_address'], queries_df['daytime'], queries_df['cell_id'])\n",
    "queries_df = queries_df[queries_df['filter'] == True].drop(columns=['filter'])\n",
    "queries_df = queries_df.sort_values(by=['ip_address', 'day', 'time', 'daytime'], axis=0)\n",
    "queries_df.to_csv('queries_filtered.csv')"
   ],
   "metadata": {
    "collapsed": false,
    "pycharm": {
     "name": "#%%\n"
    }
   }
  },
  {
   "cell_type": "markdown",
   "source": [
    "filtering queries with locations from cell_id which\n",
    "turned out to be the most interesting cells, for each"
   ],
   "metadata": {
    "collapsed": false,
    "pycharm": {
     "name": "#%% md\n"
    }
   }
  },
  {
   "cell_type": "code",
   "execution_count": 18,
   "outputs": [
    {
     "name": "stdout",
     "output_type": "stream",
     "text": [
      "['0.98.248.97', '10.229.150.53', '100.255.65.73', '101.193.212.180', '103.107.27.105', '103.75.228.13', '104.149.206.168', '105.148.239.144', '106.44.169.163', '107.201.148.122', '11.105.81.179', '11.173.13.2', '113.167.82.177', '113.244.164.228', '114.193.164.29', '115.106.150.37', '115.186.150.175', '115.207.37.109', '117.103.63.202', '118.135.166.110', '121.125.118.222', '121.229.130.24', '123.194.67.60', '123.239.52.251', '123.50.250.187', '124.223.29.175', '126.107.209.19', '126.150.186.135', '127.4.23.40', '127.94.142.97', '129.133.79.138', '13.103.179.102', '13.144.1.235', '13.191.142.105', '130.144.146.191', '131.210.249.71', '132.111.36.105', '132.169.106.77', '133.16.42.220', '133.160.188.193', '135.104.79.52', '138.1.63.218', '138.154.139.194', '138.53.90.242', '139.251.47.207', '140.119.63.230', '140.81.135.193', '140.84.18.65', '143.209.166.96', '146.1.11.56', '146.148.99.165', '146.71.112.211', '147.98.35.57', '148.172.128.122', '148.180.246.199', '148.184.155.201', '148.198.98.205', '149.36.132.17', '150.10.128.218', '152.115.234.99', '154.241.0.45', '156.148.169.71', '157.252.251.212', '159.118.124.69', '163.177.121.157', '163.180.140.74', '166.3.233.225', '166.63.10.195', '17.31.78.253', '171.102.165.236', '173.88.30.87', '174.151.217.219', '175.42.106.82', '175.43.40.163', '18.134.157.178', '18.204.22.223', '18.32.136.165', '18.52.26.2', '180.226.4.53', '181.239.94.112', '182.2.239.27', '182.92.28.40', '187.69.159.223', '189.222.3.241', '19.209.233.227', '19.24.38.167', '19.37.175.16', '190.220.254.252', '191.78.122.246', '194.153.241.86', '194.89.78.49', '197.134.251.204', '20.194.91.153', '200.20.52.81', '201.147.34.165', '202.161.113.142', '202.39.106.20', '203.24.85.254', '204.146.211.61', '205.217.178.129', '208.129.163.212', '208.156.187.81', '21.97.153.208', '210.229.8.27', '210.68.124.185', '211.193.115.52', '22.89.99.232', '220.23.41.202', '222.215.127.43', '224.203.30.107', '227.101.137.102', '229.89.219.178', '23.32.131.49', '230.106.55.51', '230.117.18.126', '230.200.203.199', '231.216.0.104', '232.230.163.5', '232.7.240.191', '233.143.85.157', '233.228.129.122', '236.195.248.12', '237.144.218.252', '237.34.214.242', '239.43.202.171', '24.103.222.44', '240.166.18.225', '242.216.225.78', '244.190.169.115', '245.191.255.251', '245.245.186.65', '245.77.53.191', '247.196.95.171', '247.26.27.252', '247.70.122.201', '250.117.118.197', '250.163.7.81', '250.71.124.231', '254.77.88.10', '27.162.61.209', '27.89.29.117', '28.234.194.204', '3.36.170.195', '31.94.149.244', '33.105.198.25', '34.101.177.245', '34.34.64.234', '36.236.230.96', '37.12.103.243', '37.238.140.76', '37.52.192.45', '37.74.148.147', '37.93.75.56', '4.78.164.209', '42.58.33.7', '45.192.57.66', '46.103.95.199', '49.133.11.43', '49.205.49.101', '51.24.62.219', '52.1.34.89', '52.35.191.21', '53.184.207.174', '57.100.56.37', '58.148.135.246', '58.9.101.51', '60.109.165.215', '60.235.63.253', '61.119.100.118', '61.173.242.232', '62.87.46.15', '63.25.113.30', '65.106.64.1', '66.78.97.123', '69.128.113.27', '69.153.160.132', '7.154.93.97', '7.210.121.52', '70.162.142.125', '71.146.193.2', '71.161.252.167', '78.204.108.127', '80.192.92.91', '82.225.127.217', '82.230.180.56', '82.249.248.9', '84.37.183.178', '87.160.243.55', '88.32.125.209', '89.234.179.60', '9.222.136.149', '90.18.152.161', '90.62.189.218', '91.60.233.179', '92.140.193.171', '94.220.204.193', '94.223.68.192', '95.146.245.203', '96.128.153.246', '97.138.146.97']\n"
     ]
    }
   ],
   "source": [
    "users = queries_df['ip_address'].drop_duplicates().tolist()\n",
    "print(users)"
   ],
   "metadata": {
    "collapsed": false,
    "pycharm": {
     "name": "#%%\n"
    }
   }
  }
 ],
 "metadata": {
  "kernelspec": {
   "display_name": "Python 3",
   "language": "python",
   "name": "python3"
  },
  "language_info": {
   "codemirror_mode": {
    "name": "ipython",
    "version": 2
   },
   "file_extension": ".py",
   "mimetype": "text/x-python",
   "name": "python",
   "nbconvert_exporter": "python",
   "pygments_lexer": "ipython2",
   "version": "2.7.6"
  }
 },
 "nbformat": 4,
 "nbformat_minor": 0
}