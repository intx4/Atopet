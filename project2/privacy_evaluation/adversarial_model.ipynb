{
 "cells": [
  {
   "cell_type": "code",
   "execution_count": 61,
   "metadata": {
    "collapsed": true
   },
   "outputs": [],
   "source": [
    "import pandas as ps\n",
    "import numpy as np\n",
    "from grid import location_to_cell_id\n",
    "from sqlalchemy import create_engine\n",
    "from math import ceil\n",
    "\n",
    "engine = create_engine('sqlite://', echo=False)"
   ]
  },
  {
   "cell_type": "markdown",
   "source": [
    "## 0. Read Dataframes"
   ],
   "metadata": {
    "collapsed": false,
    "pycharm": {
     "name": "#%% md\n"
    }
   }
  },
  {
   "cell_type": "code",
   "execution_count": 2,
   "outputs": [
    {
     "name": "stdout",
     "output_type": "stream",
     "text": [
      "      poi_id  cell_id     poi_type        lat       lon\n",
      "0        307        1          bar  46.504486  6.559631\n",
      "1        331        1          bar  46.500259  6.554721\n",
      "2        578        1  supermarket  46.506017  6.551165\n",
      "3        897        1         club  46.504494  6.553889\n",
      "4        972        1  supermarket  46.502984  6.550519\n",
      "...      ...      ...          ...        ...       ...\n",
      "1055     372      100   restaurant  46.563852  6.648454\n",
      "1056     649      100          bar  46.564047  6.640250\n",
      "1057     730      100          gym  46.565961  6.642228\n",
      "1058     828      100         club  46.569177  6.642401\n",
      "1059     990      100          bar  46.565290  6.640855\n",
      "\n",
      "[1060 rows x 5 columns]\n",
      "           ip_address        lat       lon   timestamp poi_type_query\n",
      "0      34.101.177.245  46.532942  6.591174   14.912448      cafeteria\n",
      "1      34.101.177.245  46.532942  6.591174   14.912448     restaurant\n",
      "2      34.101.177.245  46.550342  6.602852   18.024657     restaurant\n",
      "3      34.101.177.245  46.550342  6.602852   18.024657      cafeteria\n",
      "4      34.101.177.245  46.532942  6.591174   36.334539      cafeteria\n",
      "...               ...        ...       ...         ...            ...\n",
      "20438     11.173.13.2  46.524410  6.625246  449.159554    supermarket\n",
      "20439     11.173.13.2  46.527363  6.628705  453.426750    supermarket\n",
      "20440     11.173.13.2  46.527363  6.628705  453.426750            gym\n",
      "20441     11.173.13.2  46.524410  6.625246  464.420041    supermarket\n",
      "20442     11.173.13.2  46.527363  6.628705  464.420041     restaurant\n",
      "\n",
      "[20443 rows x 5 columns]\n"
     ]
    }
   ],
   "source": [
    "pois_df = ps.read_csv('pois.csv', sep=' ')\n",
    "queries_df = ps.read_csv('queries.csv', sep=' ')\n",
    "\n",
    "print(pois_df)\n",
    "print(queries_df)"
   ],
   "metadata": {
    "collapsed": false,
    "pycharm": {
     "name": "#%%\n"
    }
   }
  },
  {
   "cell_type": "markdown",
   "source": [
    "## 1. Data cleaning"
   ],
   "metadata": {
    "collapsed": false,
    "pycharm": {
     "name": "#%% md\n"
    }
   }
  },
  {
   "cell_type": "code",
   "execution_count": 3,
   "outputs": [
    {
     "name": "stdout",
     "output_type": "stream",
     "text": [
      "           ip_address        lat       lon   timestamp poi_type_query  cell_id\n",
      "0      34.101.177.245  46.532942  6.591174   14.912448      cafeteria       45\n",
      "1      34.101.177.245  46.532942  6.591174   14.912448     restaurant       45\n",
      "2      34.101.177.245  46.550342  6.602852   18.024657     restaurant       76\n",
      "3      34.101.177.245  46.550342  6.602852   18.024657      cafeteria       76\n",
      "4      34.101.177.245  46.532942  6.591174   36.334539      cafeteria       45\n",
      "...               ...        ...       ...         ...            ...      ...\n",
      "20438     11.173.13.2  46.524410  6.625246  449.159554    supermarket       38\n",
      "20439     11.173.13.2  46.527363  6.628705  453.426750    supermarket       38\n",
      "20440     11.173.13.2  46.527363  6.628705  453.426750            gym       38\n",
      "20441     11.173.13.2  46.524410  6.625246  464.420041    supermarket       38\n",
      "20442     11.173.13.2  46.527363  6.628705  464.420041     restaurant       38\n",
      "\n",
      "[20443 rows x 6 columns]\n"
     ]
    }
   ],
   "source": [
    "#Extract cell_id from which query happened\n",
    "def get_cell_id(row):\n",
    "    return location_to_cell_id(row['lat'], row['lon'])\n",
    "\n",
    "queries_df['cell_id'] = queries_df.apply(lambda row: get_cell_id(row), axis=1)\n",
    "print(queries_df)"
   ],
   "metadata": {
    "collapsed": false,
    "pycharm": {
     "name": "#%%\n"
    }
   }
  },
  {
   "cell_type": "code",
   "execution_count": 29,
   "outputs": [
    {
     "name": "stdout",
     "output_type": "stream",
     "text": [
      "           ip_address        lat       lon   timestamp poi_type_query  \\\n",
      "0      34.101.177.245  46.532942  6.591174   14.912448      cafeteria   \n",
      "1      34.101.177.245  46.532942  6.591174   14.912448     restaurant   \n",
      "2      34.101.177.245  46.550342  6.602852   18.024657     restaurant   \n",
      "3      34.101.177.245  46.550342  6.602852   18.024657      cafeteria   \n",
      "4      34.101.177.245  46.532942  6.591174   36.334539      cafeteria   \n",
      "...               ...        ...       ...         ...            ...   \n",
      "20438     11.173.13.2  46.524410  6.625246  449.159554    supermarket   \n",
      "20439     11.173.13.2  46.527363  6.628705  453.426750    supermarket   \n",
      "20440     11.173.13.2  46.527363  6.628705  453.426750            gym   \n",
      "20441     11.173.13.2  46.524410  6.625246  464.420041    supermarket   \n",
      "20442     11.173.13.2  46.527363  6.628705  464.420041     restaurant   \n",
      "\n",
      "       cell_id  day  time      daytime  \n",
      "0           45    1    14  3.Afternoon  \n",
      "1           45    1    14  3.Afternoon  \n",
      "2           76    1    18    4.Evening  \n",
      "3           76    1    18    4.Evening  \n",
      "4           45    2    12  3.Afternoon  \n",
      "...        ...  ...   ...          ...  \n",
      "20438       38   19    17    4.Evening  \n",
      "20439       38   19    21      5.Night  \n",
      "20440       38   19    21      5.Night  \n",
      "20441       38   20     8      1.Early  \n",
      "20442       38   20     8      1.Early  \n",
      "\n",
      "[20443 rows x 9 columns]\n"
     ]
    }
   ],
   "source": [
    "#Get day of the query and time\n",
    "def get_day(row):\n",
    "    return ceil(row['timestamp'] / 24)\n",
    "\n",
    "def get_hour_of_day(row):\n",
    "    return int(row['timestamp'] % 24)\n",
    "\n",
    "queries_df['day'] = queries_df.apply(lambda row: get_day(row), axis=1)\n",
    "queries_df['time'] = queries_df.apply(lambda row: get_hour_of_day(row), axis=1)\n",
    "\n",
    "#Get daytime\n",
    "def get_daytime(row):\n",
    "    time = row['time']\n",
    "    if (time >= 0 and time < 9):\n",
    "        return '1.Early'\n",
    "    if (time >= 9 and time < 12):\n",
    "        return '2.Morning'\n",
    "    if (time >= 12 and time < 17):\n",
    "        return '3.Afternoon'\n",
    "    if (time >= 17 and time < 20):\n",
    "        return '4.Evening'\n",
    "    if (time >= 20 and time <= 23):\n",
    "        return '5.Night'\n",
    "queries_df['daytime'] = queries_df.apply(lambda row: get_daytime(row), axis=1)\n",
    "\n",
    "print(queries_df)"
   ],
   "metadata": {
    "collapsed": false,
    "pycharm": {
     "name": "#%%\n"
    }
   }
  },
  {
   "cell_type": "markdown",
   "source": [
    "## 2.Statistics"
   ],
   "metadata": {
    "collapsed": false,
    "pycharm": {
     "name": "#%% md\n"
    }
   }
  },
  {
   "cell_type": "code",
   "execution_count": 53,
   "outputs": [
    {
     "name": "stdout",
     "output_type": "stream",
     "text": [
      "         ip_address      daytime  day  cell_id  count\n",
      "0       0.98.248.97    2.Morning    1       63      2\n",
      "1       0.98.248.97    4.Evening    1       18      2\n",
      "2       0.98.248.97    2.Morning    2       63      2\n",
      "3       0.98.248.97      5.Night    2       18      4\n",
      "4       0.98.248.97    2.Morning    3       63      2\n",
      "...             ...          ...  ...      ...    ...\n",
      "9672  97.138.146.97  3.Afternoon   19       22      2\n",
      "9673  97.138.146.97  3.Afternoon   19       53      2\n",
      "9674  97.138.146.97    2.Morning   20       10      2\n",
      "9675  97.138.146.97    2.Morning   20       22      1\n",
      "9676  97.138.146.97    2.Morning   20       40      1\n",
      "\n",
      "[9677 rows x 5 columns]\n"
     ]
    }
   ],
   "source": [
    "!rm stats1.csv\n",
    "queries_grouped = queries_df.groupby(['ip_address', 'daytime', 'day','cell_id'])\\\n",
    "    .size().sort_index(level=[0,2,1])\n",
    "#queries_grouped = queries_grouped.where(queries_grouped['count'] > 4).dropna()\n",
    "\n",
    "queries_grouped = queries_grouped.to_frame(name='count').reset_index()\n",
    "print(queries_grouped)\n",
    "queries_grouped.to_csv('stats1.csv')"
   ],
   "metadata": {
    "collapsed": false,
    "pycharm": {
     "name": "#%%\n"
    }
   }
  },
  {
   "cell_type": "markdown",
   "source": [
    "#### queries_grouped contains, for each ip, for each day and daytime,\n",
    "#### the number of queries launched from a certain cell_id\n",
    "#### it could be useful for inferring movement patterns"
   ],
   "metadata": {
    "collapsed": false,
    "pycharm": {
     "name": "#%% md\n"
    }
   }
  },
  {
   "cell_type": "code",
   "execution_count": null,
   "outputs": [],
   "source": [
    "!rm stats2.csv\n",
    "queries_grouped_day_removed = queries_grouped.drop(['day'],axis = 1)\n",
    "max_cell_daytime = queries_grouped_day_removed.groupby(['ip_address','daytime'])\\\n",
    "    .agg(['max'])\n",
    "max_cell_daytime.to_csv('stats2.csv')"
   ],
   "metadata": {
    "collapsed": false,
    "pycharm": {
     "name": "#%%\n"
    }
   }
  },
  {
   "cell_type": "markdown",
   "source": [
    "#### max_cell_daytime contains, for each ip, for each daytime, the cell\n",
    "#### from which most queries have been made\n",
    "#### it could be useful to individuate home/work cell id in grid"
   ],
   "metadata": {
    "collapsed": false
   }
  },
  {
   "cell_type": "code",
   "execution_count": 102,
   "outputs": [],
   "source": [
    "#reset the multi index manually\n",
    "#i.e just removed first two rows from stats2 and created header\n",
    "max_cell_daytime = ps.read_csv('stats2.csv', sep=',', header='infer')"
   ],
   "metadata": {
    "collapsed": false,
    "pycharm": {
     "name": "#%%\n"
    }
   }
  },
  {
   "cell_type": "code",
   "execution_count": 116,
   "outputs": [],
   "source": [
    "class Filter:\n",
    "    def __init__(self, max_cell_daytime):\n",
    "        self.max_cell_daytime = max_cell_daytime\n",
    "\n",
    "    def filter_locations(self, user, daytime, cell_id):\n",
    "        max_cell_daytime = self.max_cell_daytime\n",
    "        cell = max_cell_daytime.loc[(max_cell_daytime['ip_address'] == user) & (max_cell_daytime['daytime'] == daytime)]['cell_id'].to_numpy()[0]\n",
    "        if cell_id != cell:\n",
    "            return False\n",
    "        else:\n",
    "            return True\n",
    "custom_filter = Filter(max_cell_daytime)\n",
    "queries_df['filter'] = np.vectorize(custom_filter.filter_locations)(queries_df['ip_address'], queries_df['daytime'], queries_df['cell_id'])\n",
    "queries_df = queries_df[queries_df['filter'] == True].drop(columns=['filter'])\n",
    "queries_df = queries_df.sort_values(by=['ip_address', 'day', 'time', 'daytime'], axis=0)\n",
    "queries_df.to_csv('queries_filtered.csv')"
   ],
   "metadata": {
    "collapsed": false,
    "pycharm": {
     "name": "#%%\n"
    }
   }
  },
  {
   "cell_type": "markdown",
   "source": [
    "#### filtering queries with locations from cell_id which\n",
    "#### turned out to be the most interesting cells"
   ],
   "metadata": {
    "collapsed": false,
    "pycharm": {
     "name": "#%% md\n"
    }
   }
  }
 ],
 "metadata": {
  "kernelspec": {
   "display_name": "Python 3",
   "language": "python",
   "name": "python3"
  },
  "language_info": {
   "codemirror_mode": {
    "name": "ipython",
    "version": 2
   },
   "file_extension": ".py",
   "mimetype": "text/x-python",
   "name": "python",
   "nbconvert_exporter": "python",
   "pygments_lexer": "ipython2",
   "version": "2.7.6"
  }
 },
 "nbformat": 4,
 "nbformat_minor": 0
}