{
 "cells": [
  {
   "cell_type": "code",
   "execution_count": 41,
   "metadata": {
    "collapsed": true
   },
   "outputs": [],
   "source": [
    "import os.path\n",
    "\n",
    "import pandas as pd\n",
    "columns = ['cell_id', 'num_packets', 'pcap_total_size', 'server_sent_pkg_size_sum', 'server_avg_pkg_size',\n",
    "           'server_num_pkg_sent', 'client_sent_pkg_size_sum', 'client_avg_pkg_size',\n",
    "           'client_num_pkg_sent']\n",
    "df = pd.DataFrame(columns=columns)"
   ]
  },
  {
   "cell_type": "code",
   "execution_count": 45,
   "outputs": [],
   "source": [
    "from os import listdir\n",
    "from os.path import isfile, join, getsize\n",
    "import scapy.all as S\n",
    "\n",
    "for i in range(1,100):\n",
    "    path=f\"./filtered/cell_{i}/\"\n",
    "    files = [join(path,f) for f in listdir(path) if isfile(join(path, f))]\n",
    "    for file in files:\n",
    "        local_dic = {'cell_id': i}\n",
    "        f = open(file,'rb')\n",
    "        local_dic['pcap_total_size'] = getsize(file)\n",
    "        f.close()\n",
    "        packets = S.rdpcap(file)\n",
    "        local_dic['num_packets'] =  len(packets)\n",
    "        server_pkt_count = 0\n",
    "        client_pkt_count = 0\n",
    "        server_pkt_size_sum = 0\n",
    "        client_pkt_size_sum = 0\n",
    "        for packet in packets:\n",
    "            ip_layer = packet.getlayer('IP').fields\n",
    "            pkt_size = int(packet.sprintf('%IP.len%'))\n",
    "            if '172' in ip_layer['src']:\n",
    "                client_pkt_size_sum += pkt_size\n",
    "                client_pkt_count += 1\n",
    "            else:\n",
    "                server_pkt_size_sum += pkt_size\n",
    "                server_pkt_count += 1\n",
    "        local_dic['server_sent_pkg_size_sum'] = server_pkt_size_sum\n",
    "        local_dic['client_sent_pkg_size_sum'] = server_pkt_size_sum\n",
    "        local_dic['client_num_pkg_sent'] = client_pkt_count\n",
    "        local_dic['server_num_pkg_sent'] = server_pkt_count\n",
    "        if (client_pkt_count != 0):\n",
    "            local_dic['client_avg_pkg_size'] = client_pkt_size_sum/client_pkt_count\n",
    "        if (server_pkt_count != 0):\n",
    "            local_dic['server_avg_pkg_size'] = server_pkt_size_sum/server_pkt_count\n",
    "        df = df.append(local_dic, ignore_index=True)\n",
    "df.to_csv('features.csv', index=False)\n",
    "\n"
   ],
   "metadata": {
    "collapsed": false,
    "pycharm": {
     "name": "#%%\n"
    }
   }
  }
 ],
 "metadata": {
  "kernelspec": {
   "display_name": "Python 3",
   "language": "python",
   "name": "python3"
  },
  "language_info": {
   "codemirror_mode": {
    "name": "ipython",
    "version": 2
   },
   "file_extension": ".py",
   "mimetype": "text/x-python",
   "name": "python",
   "nbconvert_exporter": "python",
   "pygments_lexer": "ipython2",
   "version": "2.7.6"
  }
 },
 "nbformat": 4,
 "nbformat_minor": 0
}